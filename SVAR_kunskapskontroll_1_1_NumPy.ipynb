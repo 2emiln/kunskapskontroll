{
 "cells": [
  {
   "cell_type": "markdown",
   "id": "dacf74e6",
   "metadata": {},
   "source": [
    "# NumPy"
   ]
  },
  {
   "cell_type": "markdown",
   "id": "01b2bf34",
   "metadata": {},
   "source": [
    "Read the links: https://numpy.org/doc/stable/user/quickstart.html  and https://numpy.org/doc/stable/user/basics.broadcasting.html  before solving the exercises. "
   ]
  },
  {
   "cell_type": "code",
   "execution_count": 1,
   "id": "1f79e4a6",
   "metadata": {},
   "outputs": [],
   "source": [
    "import numpy as np"
   ]
  },
  {
   "cell_type": "markdown",
   "id": "7dae6889",
   "metadata": {},
   "source": [
    "### Print out the dimension (number of axes), shape, size and the datatype of the matrix A."
   ]
  },
  {
   "cell_type": "code",
   "execution_count": 2,
   "id": "7b3678cd",
   "metadata": {},
   "outputs": [],
   "source": [
    "A = np.arange(1, 16).reshape(3,5)"
   ]
  },
  {
   "cell_type": "code",
   "execution_count": 3,
   "id": "31d39235",
   "metadata": {},
   "outputs": [
    {
     "name": "stdout",
     "output_type": "stream",
     "text": [
      "2 (3, 5) 15 int32\n"
     ]
    }
   ],
   "source": [
    "print(A.ndim, A.shape, A.size, A.dtype)\n"
   ]
  },
  {
   "cell_type": "markdown",
   "id": "e56d2a96",
   "metadata": {},
   "source": [
    "### Do the following computations on the matrices B and C: \n",
    "* Elementwise subtraction. \n",
    "* Elementwise multiplication. \n",
    "* Matrix multiplication (by default you should use the @ operator)."
   ]
  },
  {
   "cell_type": "code",
   "execution_count": 4,
   "id": "a7053fbb",
   "metadata": {},
   "outputs": [
    {
     "name": "stdout",
     "output_type": "stream",
     "text": [
      "[[1 2 3]\n",
      " [4 5 6]\n",
      " [7 8 9]]\n",
      "[[2. 2. 2.]\n",
      " [2. 2. 2.]\n",
      " [2. 2. 2.]]\n",
      "[[-1.  0.  1.]\n",
      " [ 2.  3.  4.]\n",
      " [ 5.  6.  7.]]\n",
      "[[ 2.  4.  6.]\n",
      " [ 8. 10. 12.]\n",
      " [14. 16. 18.]]\n",
      "[[12. 12. 12.]\n",
      " [30. 30. 30.]\n",
      " [48. 48. 48.]]\n"
     ]
    }
   ],
   "source": [
    "B = np.arange(1, 10).reshape(3, 3)\n",
    "C = np.ones((3, 3))*2\n",
    "D = B - C\n",
    "E = B * C\n",
    "F = B @ C\n",
    "print(B)\n",
    "print(C)\n",
    "print(D)\n",
    "print(E)\n",
    "print(F)"
   ]
  },
  {
   "cell_type": "markdown",
   "id": "96030d53",
   "metadata": {},
   "source": [
    "### Do the following calculations on the matrix:\n",
    "* Exponentiate each number elementwise (use the np.exp function).\n",
    "\n",
    "* Calculate the minimum value in the whole matrix. \n",
    "* Calculcate the minimum value in each row. \n",
    "* Calculcate the minimum value in each column. \n",
    "\n",
    "\n",
    "* Find the index value for the minimum value in the whole matrix (hint: use np.argmin).\n",
    "* Find the index value for the minimum value in each row (hint: use np.argmin).\n",
    "\n",
    "\n",
    "* Calculate the sum for all elements.\n",
    "* Calculate the mean for each column. \n",
    "* Calculate the median for each column. "
   ]
  },
  {
   "cell_type": "code",
   "execution_count": 5,
   "id": "f8a9166b",
   "metadata": {},
   "outputs": [
    {
     "name": "stdout",
     "output_type": "stream",
     "text": [
      "[[1 2 3]\n",
      " [4 5 6]\n",
      " [7 8 9]]\n",
      "\n",
      "[[  2.   4.   8.]\n",
      " [ 16.  32.  64.]\n",
      " [128. 256. 512.]]\n",
      "\n",
      "1\n",
      "[1 2 3]\n",
      "[1 4 7]\n",
      "0\n",
      "[0 0 0]\n",
      "\n",
      "45\n",
      "[4. 5. 6.]\n",
      "[4. 5. 6.]\n"
     ]
    }
   ],
   "source": [
    "B = np.arange(1, 10).reshape(3, 3)\n",
    "print(B)\n",
    "print()\n",
    "print(np.exp2(B))               # Exponentiating every element by 2\n",
    "print()\n",
    "print(np.min(B))                # Finds min value in matrix\n",
    "print(np.min(B, axis=0))        # Finds min value in each column\n",
    "print(np.min(B, axis=1))        # Finds min value in each row\n",
    "print(np.argmin(B))             # Finds index for min value in matrix\n",
    "print(np.argmin(B, axis=1))     # Finds index for min value in each row\n",
    "print()\n",
    "print(np.sum(B))                # Sums up all values in matrix\n",
    "print(np.mean(B, axis=0))       # Finds the mean for each column\n",
    "print(np.median(B, axis=0))     # Finds the median for each column"
   ]
  },
  {
   "cell_type": "code",
   "execution_count": null,
   "id": "f03f24f7",
   "metadata": {},
   "outputs": [],
   "source": []
  },
  {
   "cell_type": "markdown",
   "id": "541eb7ba",
   "metadata": {},
   "source": [
    "### What does it mean when you provide fewer indices than axes when slicing? See example below."
   ]
  },
  {
   "cell_type": "code",
   "execution_count": 6,
   "id": "9c8abf56",
   "metadata": {},
   "outputs": [
    {
     "name": "stdout",
     "output_type": "stream",
     "text": [
      "[[ 1  2  3  4  5]\n",
      " [ 6  7  8  9 10]\n",
      " [11 12 13 14 15]]\n"
     ]
    }
   ],
   "source": [
    "print(A)"
   ]
  },
  {
   "cell_type": "code",
   "execution_count": 7,
   "id": "69415f7b",
   "metadata": {},
   "outputs": [
    {
     "data": {
      "text/plain": [
       "array([ 6,  7,  8,  9, 10])"
      ]
     },
     "execution_count": 7,
     "metadata": {},
     "output_type": "execute_result"
    }
   ],
   "source": [
    "A[1]"
   ]
  },
  {
   "cell_type": "markdown",
   "id": "6c53541b",
   "metadata": {},
   "source": [
    "**Answer:** The missing indices are considered complete."
   ]
  },
  {
   "cell_type": "markdown",
   "id": "6652d0c9",
   "metadata": {},
   "source": [
    "### Iterating over multidimensional arrays is done with respect to the first axis, so in the example below we iterate trough the rows. If you would like to iterate through the array *elementwise*, how would you do that?"
   ]
  },
  {
   "cell_type": "code",
   "execution_count": 8,
   "id": "9459864f",
   "metadata": {},
   "outputs": [
    {
     "data": {
      "text/plain": [
       "array([[ 1,  2,  3,  4,  5],\n",
       "       [ 6,  7,  8,  9, 10],\n",
       "       [11, 12, 13, 14, 15]])"
      ]
     },
     "execution_count": 8,
     "metadata": {},
     "output_type": "execute_result"
    }
   ],
   "source": [
    "A"
   ]
  },
  {
   "cell_type": "code",
   "execution_count": 9,
   "id": "a671bb5a",
   "metadata": {},
   "outputs": [
    {
     "name": "stdout",
     "output_type": "stream",
     "text": [
      "[1 2 3 4 5]\n",
      "[ 6  7  8  9 10]\n",
      "[11 12 13 14 15]\n"
     ]
    }
   ],
   "source": [
    "for i in A:\n",
    "    print(i)"
   ]
  },
  {
   "cell_type": "code",
   "execution_count": 10,
   "id": "f4e443a0",
   "metadata": {},
   "outputs": [
    {
     "name": "stdout",
     "output_type": "stream",
     "text": [
      "1\n",
      "2\n",
      "3\n",
      "4\n",
      "5\n",
      "6\n",
      "7\n",
      "8\n",
      "9\n",
      "10\n",
      "11\n",
      "12\n",
      "13\n",
      "14\n",
      "15\n"
     ]
    }
   ],
   "source": [
    "for i in A.flat:\n",
    "    print(i)"
   ]
  },
  {
   "cell_type": "markdown",
   "id": "608a2583",
   "metadata": {},
   "source": [
    "### Explain what the code below does. More specifically, b has three axes - what does this mean? "
   ]
  },
  {
   "cell_type": "code",
   "execution_count": 11,
   "id": "f8f9b26f",
   "metadata": {},
   "outputs": [
    {
     "name": "stdout",
     "output_type": "stream",
     "text": [
      "[ 0  1  2  3  4  5  6  7  8  9 10 11 12 13 14 15 16 17 18 19 20 21 22 23\n",
      " 24 25 26 27 28 29]\n",
      "\n",
      "[[[ 0  1  2  3  4]\n",
      "  [ 5  6  7  8  9]\n",
      "  [10 11 12 13 14]]\n",
      "\n",
      " [[15 16 17 18 19]\n",
      "  [20 21 22 23 24]\n",
      "  [25 26 27 28 29]]]\n"
     ]
    }
   ],
   "source": [
    "a = np.arange(30)               # Creates an array of 30 numbers from 0 to 29.\n",
    "b = a.reshape((2, 3, -1))       # Reshapes a into a 3D-matrix called b (2x3), -1 shapes the other dimensions automatically\n",
    "print(a)                        # Prints the array (a)\n",
    "print()\n",
    "print(b)                        # Prints the matrix of (b)"
   ]
  },
  {
   "cell_type": "code",
   "execution_count": null,
   "id": "863a45df",
   "metadata": {},
   "outputs": [],
   "source": []
  },
  {
   "cell_type": "markdown",
   "id": "ab5933d5",
   "metadata": {},
   "source": [
    "### Broadcasting\n",
    "**Read the following link about broadcasting: https://numpy.org/doc/stable/user/basics.broadcasting.html#basics-broadcasting**"
   ]
  },
  {
   "cell_type": "markdown",
   "id": "039805ba",
   "metadata": {},
   "source": [
    "# Remark on Broadcasting when doing Linear Algebra calculations in Python. "
   ]
  },
  {
   "cell_type": "markdown",
   "id": "c4bcc147",
   "metadata": {},
   "source": [
    "### From the mathematical rules of matrix addition, the operation below (m1 + m2) does not make sense. The reason is that matrix addition requires two matrices of the same size. In Python however, it works due to broadcasting rules in NumPy. So you must be careful when doing Linear Algebra calculations in Python since they do not follow the \"mathematical rules\". This can however easily be handled by doing some simple programming, for example validating that two matrices have the same shape is easy if you for instance want to add two matrices. "
   ]
  },
  {
   "cell_type": "code",
   "execution_count": 12,
   "id": "1fd46778",
   "metadata": {},
   "outputs": [
    {
     "name": "stdout",
     "output_type": "stream",
     "text": [
      "[[2 3]\n",
      " [4 5]]\n"
     ]
    }
   ],
   "source": [
    "m1 = np.array([[1, 2], [3, 4]])\n",
    "m2 = np.array([1, 1])\n",
    "print(m1 + m2)"
   ]
  },
  {
   "cell_type": "markdown",
   "id": "047d6576",
   "metadata": {},
   "source": [
    "### The example below would also not be allowed if following the \"mathematical rules\" in Linear Algebra. But it works due to broadcasting in NumPy. "
   ]
  },
  {
   "cell_type": "code",
   "execution_count": 13,
   "id": "5e6ef2e4",
   "metadata": {},
   "outputs": [
    {
     "name": "stdout",
     "output_type": "stream",
     "text": [
      "[2 3 4]\n"
     ]
    }
   ],
   "source": [
    "v1 = np.array([1, 2, 3])\n",
    "print(v1 + 1)"
   ]
  },
  {
   "cell_type": "code",
   "execution_count": 14,
   "id": "e2cbae26",
   "metadata": {},
   "outputs": [
    {
     "name": "stdout",
     "output_type": "stream",
     "text": [
      "[[1 2]\n",
      " [3 4]]\n",
      "[2 2]\n"
     ]
    }
   ],
   "source": [
    "A = np.arange(1, 5).reshape(2,2)\n",
    "print(A)\n",
    "\n",
    "b = np.array([2, 2])\n",
    "print(b)"
   ]
  },
  {
   "cell_type": "markdown",
   "id": "722fd5cd",
   "metadata": {},
   "source": [
    "# Vector- and matrix algebra Exercises"
   ]
  },
  {
   "cell_type": "markdown",
   "id": "b63a3081-d976-4d9f-bfd0-a63917e79f7d",
   "metadata": {},
   "source": [
    "**Now you are going to create a function that can be reused every time you add or multiply matrices. The function is created so that we do the addition and multiplication according to the rules of vector- and matrix algebra.**\n",
    "\n",
    "**Create a function \"add_mult_matrices\" that takes two matrices as input arguments (validate that the input are of the type numpy.ndarray by using the isinstance function), a third argument that is either 'add' or 'multiply' that specifies if you want to add or multiply the matrices (validate that the third argument is either 'add' or 'multiply'). When doing matrix addition, validate that the matrices have the same size. When doing matrix multiplication, validate that the sizes conform (i.e. number of columns in the first matrix is equal to the number of rows in the second matrix).**"
   ]
  },
  {
   "cell_type": "code",
   "execution_count": 15,
   "id": "3506f977-ac0a-473f-85bc-eec9f35dc498",
   "metadata": {},
   "outputs": [
    {
     "name": "stdout",
     "output_type": "stream",
     "text": [
      "[[4 6]\n",
      " [4 6]]\n",
      "\n",
      "[[10 15]\n",
      " [10 15]]\n"
     ]
    }
   ],
   "source": [
    "\n",
    "def add_mult_matrices(matrix1, matrix2, operation):                             # Defines a function that takes 2 matrices then add or multiply depending on operation.\n",
    "    \n",
    "    if isinstance(matrix1, np.ndarray) and isinstance(matrix2, np.ndarray):     # Validates that arguments are True\n",
    "        if operation == 'add':                                                  # Check if operation = add\n",
    "            if matrix1.shape == matrix2.shape:                                  # Checks if matrices are the same sizes\n",
    "                return matrix1 + matrix2                                        # Returns the sum of both matrices\n",
    "            \n",
    "        elif operation == 'multiply':                                           # Checks if operation = multiply, and if column of the first\n",
    "            if matrix1.shape[1] == matrix2.shape[0]:                            \n",
    "                return matrix1 @ matrix2\n",
    "        \n",
    "        else:\n",
    "            print('Operation needs to be either add or multiply')               \n",
    "    \n",
    "    else:\n",
    "        print('Arguments needs to be in np.ndarray')\n",
    "            \n",
    "        \n",
    "matrix1 = np.array([[2, 3], [2,3]])\n",
    "matrix2 = np.array([[2, 3], [2,3]])\n",
    "\n",
    "print(add_mult_matrices(matrix1, matrix2, 'add'))\n",
    "print()\n",
    "print(add_mult_matrices(matrix1, matrix2, 'multiply'))\n",
    "    "
   ]
  },
  {
   "cell_type": "markdown",
   "id": "8dad82d0-2359-4dff-8f5b-a57d3e34103c",
   "metadata": {},
   "source": [
    "### Solve all the exercises in chapter 10.1 in the book \"Matematik för yrkeshögskolan\". "
   ]
  },
  {
   "cell_type": "markdown",
   "id": "9772c98b",
   "metadata": {},
   "source": [
    "# 10.1.1"
   ]
  },
  {
   "cell_type": "code",
   "execution_count": 16,
   "id": "89df88af-3668-4d98-a0a4-e6d92eea0f89",
   "metadata": {},
   "outputs": [
    {
     "name": "stdout",
     "output_type": "stream",
     "text": [
      "a: (1, 2)\n",
      "b: [[20 15]]\n",
      "c: [[12  9]]\n",
      "d: [[32 24]]\n",
      "e: [[32 24]]\n",
      "f: [[12  9]]\n",
      "g: (1, 2)\n",
      "h: It's not defined because they dont have the same dimensions.\n",
      "i: 5.0\n"
     ]
    }
   ],
   "source": [
    "x = np.array([[4, 3]])\n",
    "\n",
    "# a) Vilken dimension har vektorn x?\n",
    "print(f'a:',x.shape)\n",
    "# b) Beräkna 5x\n",
    "print(f'b:', x * 5)\n",
    "# c) Beräkna 3x\n",
    "print(f'c:', x * 3)\n",
    "# d) Beräkna 5x + 3x\n",
    "print(f'd:', 5 * x + 3 * x)\n",
    "# e) Beräkna 8x\n",
    "print(f'e:', x * 8)\n",
    "# f) Beräkna 4x - x\n",
    "print(f'f:', 4 * x - x)\n",
    "# g) Beräkna x-transponerat, vilken blir den nya dimensionen efter att transponeringen utförsts?\n",
    "x.transpose\n",
    "print(f'g:',x.shape)\n",
    "# h) Är x + x.T definerat?\n",
    "print(\"h: It's not defined because they dont have the same dimensions.\")\n",
    "# i) Beräkna ||x||\n",
    "print(f'i:',np.linalg.norm(x))\n"
   ]
  },
  {
   "cell_type": "markdown",
   "id": "6017a753",
   "metadata": {},
   "source": [
    "# 10.1.2"
   ]
  },
  {
   "cell_type": "code",
   "execution_count": 17,
   "id": "e4b91fe1",
   "metadata": {},
   "outputs": [
    {
     "name": "stdout",
     "output_type": "stream",
     "text": [
      "a: (4, 1) \n",
      "\n",
      "b:\n",
      " [[ 6]\n",
      " [14]\n",
      " [ 0]\n",
      " [22]] \n",
      "\n",
      "c:\n",
      " [[21]\n",
      " [49]\n",
      " [ 0]\n",
      " [77]] \n",
      "\n",
      "d:\n",
      " [[ 6]\n",
      " [14]\n",
      " [ 0]\n",
      " [22]] \n",
      "\n",
      "e: (1, 4) \n",
      "\n",
      "f: 13.379088160259652 \n",
      "\n"
     ]
    }
   ],
   "source": [
    "# Definera vektorn v enligt v-transponerat (3,7,0,11)\n",
    "v = np.array([[3,7,0,11]])\n",
    "v = v.T\n",
    "# a) Vilken dimension har vektorn v?\n",
    "print(f'a:',v.shape,'\\n')\n",
    "# b) Beräkna 2v\n",
    "print(f'b:\\n',v * 2,'\\n')\n",
    "# c) Beräkna 5v + 2v\n",
    "print(f'c:\\n',v * 5 + v * 2,'\\n')\n",
    "# d) Beräkna 4v - 2v\n",
    "print(f'd:\\n',v * 4 - v * 2,'\\n')\n",
    "# e) Beräkna v.T, vilken blir den nya dimensionen efter att transponeringen utförsts?\n",
    "v = v.T\n",
    "print(f'e:',v.shape,'\\n')\n",
    "# f) Beräkna ||v||\n",
    "print(f'f:', np.linalg.norm(v),'\\n')\n",
    "\n",
    "\n",
    "\n"
   ]
  },
  {
   "cell_type": "markdown",
   "id": "dfa7d1e1",
   "metadata": {},
   "source": [
    "# 10.1.3"
   ]
  },
  {
   "cell_type": "code",
   "execution_count": 18,
   "id": "b803755d",
   "metadata": {},
   "outputs": [
    {
     "name": "stdout",
     "output_type": "stream",
     "text": [
      "a: 7.14142842854285\n",
      "b: 3.2684450823354334\n"
     ]
    }
   ],
   "source": [
    "# Definera vektorerna v1 = (4,3,1,5) och v2 = (2,3,1,1)\n",
    "v1 = np.array([[4,3,1,5]])\n",
    "v2 = np.array([[2,3,1,1]])\n",
    "\n",
    "# a) Beräkna ||v1||\n",
    "print(f'a:',np.linalg.norm(v1))\n",
    "# b) Beräkna ||v1 - v2||\n",
    "print(f'b:',np.linalg.norm(v1) - np.linalg.norm(v2))"
   ]
  },
  {
   "cell_type": "markdown",
   "id": "75c98984-1f88-4df1-b850-d2466de444a5",
   "metadata": {},
   "source": [
    "### Solve all the exercises, except 10.2.4, in chapter 10.2 in the book \"Matematik för yrkeshögskolan\". "
   ]
  },
  {
   "cell_type": "markdown",
   "id": "4f688d36",
   "metadata": {},
   "source": [
    "# 10.2.1"
   ]
  },
  {
   "cell_type": "code",
   "execution_count": 19,
   "id": "65371610-16e1-48b2-b7fb-65e49002608a",
   "metadata": {},
   "outputs": [
    {
     "name": "stdout",
     "output_type": "stream",
     "text": [
      "a:\n",
      " [[ 4  2  2]\n",
      " [ 2 -2  2]] \n",
      "\n",
      "b:\n",
      " [[ 0 -4 -1]\n",
      " [ 0 -2 -4]] \n",
      "\n",
      "c: Not defined.\n",
      "\n",
      "d:\n",
      " [[3 2]\n",
      " [2 3]] \n",
      "\n",
      "e:\n",
      " [[ 9 12]\n",
      " [12  9]] \n",
      "\n",
      "f:\n",
      " [[-4 -4]\n",
      " [-4 -4]] \n",
      "\n",
      "g: Not defined.\n",
      "\n",
      "h: Not defined.\n",
      "\n",
      "i:\n",
      " [[11 10]\n",
      " [10 11]] \n",
      "\n",
      "j:\n",
      " [[  8 -10  -3]\n",
      " [ 10  -8   0]] \n",
      "\n",
      "k:\n",
      " [[1 2]\n",
      " [2 1]] \n",
      "\n",
      "l:\n",
      " [[ 7 -2]\n",
      " [ 7  4]]\n"
     ]
    }
   ],
   "source": [
    "# Definera matriserna\n",
    "a = np.array([[2,1,1],\n",
    "             [1,-1,1]])\n",
    "\n",
    "b = np.array([[4,-2,1],\n",
    "             [2,-4,-2]])\n",
    "\n",
    "c = np.array([[1,2],\n",
    "             [2,1]])\n",
    "\n",
    "d = np.array([[3,4],\n",
    "             [4,3]])\n",
    "\n",
    "e = np.array([[1],\n",
    "             [2]])\n",
    "\n",
    "i = np.array([[1,0],\n",
    "             [0,1]])\n",
    "\n",
    "# Om det är definerat, utför följande beräkningar:\n",
    "\n",
    "# a) 2a\n",
    "print(f'a:\\n', a * 2,'\\n')\n",
    "# b) b - 2a\n",
    "print(f'b:\\n', b - a * 2,'\\n')\n",
    "# c) 3c - 2e\n",
    "print(f'c: Not defined.\\n')\n",
    "# d) 2d - 3c\n",
    "print(f'd:\\n', 2 * d - 3 * c,'\\n')\n",
    "# e) d.T + 2d\n",
    "print(f'e:\\n', d.T + 2 * d,'\\n')\n",
    "# f) 2c.T - 2d.T\n",
    "print(f'f:\\n', 2 * c.T - 2 * d.T,'\\n')\n",
    "# g) a.T - b\n",
    "print(f'g: Not defined.\\n')\n",
    "# h) ac\n",
    "print(f'h: Not defined.\\n')\n",
    "# i) cd\n",
    "print(f'i:\\n', c @ d,'\\n')\n",
    "# j) cb\n",
    "print(f'j:\\n', c @ b,'\\n')\n",
    "# k) ci\n",
    "print(f'k:\\n', c @ i,'\\n')\n",
    "# l) ab.T\n",
    "print(f'l:\\n', a @ b.T)"
   ]
  },
  {
   "cell_type": "markdown",
   "id": "78aa2e28",
   "metadata": {},
   "source": [
    "# 10.2.2"
   ]
  },
  {
   "cell_type": "code",
   "execution_count": 20,
   "id": "c6228c6d",
   "metadata": {},
   "outputs": [
    {
     "name": "stdout",
     "output_type": "stream",
     "text": [
      "[[29 26]\n",
      " [26 42]]\n"
     ]
    }
   ],
   "source": [
    "# Definera matrisen A = [2 3 4]\n",
    "#                       [5 4 1]\n",
    "\n",
    "A = np.array([[2,3,4],\n",
    "              [5,4,1]])\n",
    "\n",
    "# Beräkna A * A.T\n",
    "print(A @ A.T)"
   ]
  },
  {
   "cell_type": "markdown",
   "id": "cde9a221",
   "metadata": {},
   "source": [
    "# 10.2.3"
   ]
  },
  {
   "cell_type": "code",
   "execution_count": 21,
   "id": "c119cce6",
   "metadata": {},
   "outputs": [],
   "source": [
    "# Definera matriserna A = [1 2] B = [2 1] C = [4 3]\n",
    "#                         [2 4]     [1 3]     [0 2]\n",
    "\n",
    "A = np.array([[1,2],\n",
    "              [2,4]])\n",
    "\n",
    "B = np.array([[2,1],\n",
    "              [1,3]])\n",
    "\n",
    "C = np.array([[4,3],\n",
    "              [0,2]])"
   ]
  },
  {
   "cell_type": "markdown",
   "id": "6a4a524f",
   "metadata": {},
   "source": [
    "### Copies and Views\n",
    "Read the following link: https://numpy.org/doc/stable/user/basics.copies.html"
   ]
  },
  {
   "cell_type": "markdown",
   "id": "6cbbeaf7",
   "metadata": {},
   "source": [
    "**Basic indexing creates a view, How can you check if v1 and v2 is a view or copy? If you change the last element in v2 to 123, will the last element in v1 be changed? Why?**"
   ]
  },
  {
   "cell_type": "code",
   "execution_count": 22,
   "id": "5b9ef4df",
   "metadata": {},
   "outputs": [
    {
     "name": "stdout",
     "output_type": "stream",
     "text": [
      "[0 1 2 3]\n",
      "[2 3]\n"
     ]
    }
   ],
   "source": [
    "v1 = np.arange(4)\n",
    "v2 = v1[-2:]\n",
    "print(v1)\n",
    "print(v2)"
   ]
  },
  {
   "cell_type": "code",
   "execution_count": 23,
   "id": "d2440489",
   "metadata": {},
   "outputs": [
    {
     "name": "stdout",
     "output_type": "stream",
     "text": [
      "None\n",
      "[0 1 2 3]\n"
     ]
    }
   ],
   "source": [
    "# The base attribute of a view returns the original array while it returns None for a copy.\n",
    "print(v1.base)\n",
    "print(v2.base)"
   ]
  },
  {
   "cell_type": "code",
   "execution_count": 24,
   "id": "c8752807",
   "metadata": {},
   "outputs": [
    {
     "name": "stdout",
     "output_type": "stream",
     "text": [
      "[  0   1   2 123]\n",
      "[  2 123]\n"
     ]
    }
   ],
   "source": [
    "# The last element in v1 will be changed aswell since v2 is a view, meaning they share the same data buffer.\n",
    "v2[-1] = 123\n",
    "print(v1)\n",
    "print(v2)"
   ]
  },
  {
   "cell_type": "code",
   "execution_count": null,
   "id": "3dd68221",
   "metadata": {},
   "outputs": [],
   "source": []
  }
 ],
 "metadata": {
  "kernelspec": {
   "display_name": "base",
   "language": "python",
   "name": "python3"
  },
  "language_info": {
   "codemirror_mode": {
    "name": "ipython",
    "version": 3
   },
   "file_extension": ".py",
   "mimetype": "text/x-python",
   "name": "python",
   "nbconvert_exporter": "python",
   "pygments_lexer": "ipython3",
   "version": "3.12.4"
  }
 },
 "nbformat": 4,
 "nbformat_minor": 5
}
